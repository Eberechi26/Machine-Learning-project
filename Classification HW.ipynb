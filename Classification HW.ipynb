{
 "cells": [
  {
   "cell_type": "code",
   "execution_count": 1,
   "id": "a2175b10",
   "metadata": {},
   "outputs": [],
   "source": [
    "%matplotlib inline\n",
    "import pandas as pd\n",
    "import numpy as np\n",
    "import seaborn as sns\n",
    "import matplotlib.pyplot as plt"
   ]
  },
  {
   "cell_type": "code",
   "execution_count": 3,
   "id": "9825e73d",
   "metadata": {},
   "outputs": [
    {
     "data": {
      "text/html": [
       "<div>\n",
       "<style scoped>\n",
       "    .dataframe tbody tr th:only-of-type {\n",
       "        vertical-align: middle;\n",
       "    }\n",
       "\n",
       "    .dataframe tbody tr th {\n",
       "        vertical-align: top;\n",
       "    }\n",
       "\n",
       "    .dataframe thead th {\n",
       "        text-align: right;\n",
       "    }\n",
       "</style>\n",
       "<table border=\"1\" class=\"dataframe\">\n",
       "  <thead>\n",
       "    <tr style=\"text-align: right;\">\n",
       "      <th></th>\n",
       "      <th>longitude</th>\n",
       "      <th>latitude</th>\n",
       "      <th>housing_median_age</th>\n",
       "      <th>total_rooms</th>\n",
       "      <th>total_bedrooms</th>\n",
       "      <th>population</th>\n",
       "      <th>households</th>\n",
       "      <th>median_income</th>\n",
       "      <th>median_house_value</th>\n",
       "      <th>ocean_proximity</th>\n",
       "    </tr>\n",
       "  </thead>\n",
       "  <tbody>\n",
       "    <tr>\n",
       "      <th>0</th>\n",
       "      <td>-122.23</td>\n",
       "      <td>37.88</td>\n",
       "      <td>41.0</td>\n",
       "      <td>880.0</td>\n",
       "      <td>129.0</td>\n",
       "      <td>322.0</td>\n",
       "      <td>126.0</td>\n",
       "      <td>8.3252</td>\n",
       "      <td>452600.0</td>\n",
       "      <td>NEAR BAY</td>\n",
       "    </tr>\n",
       "    <tr>\n",
       "      <th>1</th>\n",
       "      <td>-122.22</td>\n",
       "      <td>37.86</td>\n",
       "      <td>21.0</td>\n",
       "      <td>7099.0</td>\n",
       "      <td>1106.0</td>\n",
       "      <td>2401.0</td>\n",
       "      <td>1138.0</td>\n",
       "      <td>8.3014</td>\n",
       "      <td>358500.0</td>\n",
       "      <td>NEAR BAY</td>\n",
       "    </tr>\n",
       "    <tr>\n",
       "      <th>2</th>\n",
       "      <td>-122.24</td>\n",
       "      <td>37.85</td>\n",
       "      <td>52.0</td>\n",
       "      <td>1467.0</td>\n",
       "      <td>190.0</td>\n",
       "      <td>496.0</td>\n",
       "      <td>177.0</td>\n",
       "      <td>7.2574</td>\n",
       "      <td>352100.0</td>\n",
       "      <td>NEAR BAY</td>\n",
       "    </tr>\n",
       "    <tr>\n",
       "      <th>3</th>\n",
       "      <td>-122.25</td>\n",
       "      <td>37.85</td>\n",
       "      <td>52.0</td>\n",
       "      <td>1274.0</td>\n",
       "      <td>235.0</td>\n",
       "      <td>558.0</td>\n",
       "      <td>219.0</td>\n",
       "      <td>5.6431</td>\n",
       "      <td>341300.0</td>\n",
       "      <td>NEAR BAY</td>\n",
       "    </tr>\n",
       "    <tr>\n",
       "      <th>4</th>\n",
       "      <td>-122.25</td>\n",
       "      <td>37.85</td>\n",
       "      <td>52.0</td>\n",
       "      <td>1627.0</td>\n",
       "      <td>280.0</td>\n",
       "      <td>565.0</td>\n",
       "      <td>259.0</td>\n",
       "      <td>3.8462</td>\n",
       "      <td>342200.0</td>\n",
       "      <td>NEAR BAY</td>\n",
       "    </tr>\n",
       "  </tbody>\n",
       "</table>\n",
       "</div>"
      ],
      "text/plain": [
       "   longitude  latitude  housing_median_age  total_rooms  total_bedrooms  \\\n",
       "0    -122.23     37.88                41.0        880.0           129.0   \n",
       "1    -122.22     37.86                21.0       7099.0          1106.0   \n",
       "2    -122.24     37.85                52.0       1467.0           190.0   \n",
       "3    -122.25     37.85                52.0       1274.0           235.0   \n",
       "4    -122.25     37.85                52.0       1627.0           280.0   \n",
       "\n",
       "   population  households  median_income  median_house_value ocean_proximity  \n",
       "0       322.0       126.0         8.3252            452600.0        NEAR BAY  \n",
       "1      2401.0      1138.0         8.3014            358500.0        NEAR BAY  \n",
       "2       496.0       177.0         7.2574            352100.0        NEAR BAY  \n",
       "3       558.0       219.0         5.6431            341300.0        NEAR BAY  \n",
       "4       565.0       259.0         3.8462            342200.0        NEAR BAY  "
      ]
     },
     "execution_count": 3,
     "metadata": {},
     "output_type": "execute_result"
    }
   ],
   "source": [
    "df = pd.read_csv('housings.csv')\n",
    "df.head()"
   ]
  },
  {
   "cell_type": "code",
   "execution_count": 4,
   "id": "61a0dbf6",
   "metadata": {},
   "outputs": [
    {
     "data": {
      "text/plain": [
       "longitude             float64\n",
       "latitude              float64\n",
       "housing_median_age    float64\n",
       "total_rooms           float64\n",
       "total_bedrooms        float64\n",
       "population            float64\n",
       "households            float64\n",
       "median_income         float64\n",
       "median_house_value    float64\n",
       "ocean_proximity        object\n",
       "dtype: object"
      ]
     },
     "execution_count": 4,
     "metadata": {},
     "output_type": "execute_result"
    }
   ],
   "source": [
    "df.dtypes"
   ]
  },
  {
   "cell_type": "code",
   "execution_count": 5,
   "id": "135618a4",
   "metadata": {},
   "outputs": [
    {
     "data": {
      "text/plain": [
       "Index(['longitude', 'latitude', 'housing_median_age', 'total_rooms',\n",
       "       'total_bedrooms', 'population', 'households', 'median_income',\n",
       "       'median_house_value', 'ocean_proximity'],\n",
       "      dtype='object')"
      ]
     },
     "execution_count": 5,
     "metadata": {},
     "output_type": "execute_result"
    }
   ],
   "source": [
    "df.columns"
   ]
  },
  {
   "cell_type": "code",
   "execution_count": 6,
   "id": "114ca19a",
   "metadata": {},
   "outputs": [
    {
     "data": {
      "text/plain": [
       "longitude               0\n",
       "latitude                0\n",
       "housing_median_age      0\n",
       "total_rooms             0\n",
       "total_bedrooms        207\n",
       "population              0\n",
       "households              0\n",
       "median_income           0\n",
       "median_house_value      0\n",
       "ocean_proximity         0\n",
       "dtype: int64"
      ]
     },
     "execution_count": 6,
     "metadata": {},
     "output_type": "execute_result"
    }
   ],
   "source": [
    "df.isnull().sum()"
   ]
  },
  {
   "cell_type": "code",
   "execution_count": 6,
   "id": "b1abd6b5",
   "metadata": {},
   "outputs": [
    {
     "data": {
      "text/plain": [
       "0         129.0\n",
       "1        1106.0\n",
       "2         190.0\n",
       "3         235.0\n",
       "4         280.0\n",
       "          ...  \n",
       "20635     374.0\n",
       "20636     150.0\n",
       "20637     485.0\n",
       "20638     409.0\n",
       "20639     616.0\n",
       "Name: total_bedrooms, Length: 20640, dtype: float64"
      ]
     },
     "execution_count": 6,
     "metadata": {},
     "output_type": "execute_result"
    }
   ],
   "source": [
    " df.total_bedrooms.fillna(0)"
   ]
  },
  {
   "cell_type": "code",
   "execution_count": 7,
   "id": "286afff1",
   "metadata": {},
   "outputs": [
    {
     "data": {
      "text/html": [
       "<div>\n",
       "<style scoped>\n",
       "    .dataframe tbody tr th:only-of-type {\n",
       "        vertical-align: middle;\n",
       "    }\n",
       "\n",
       "    .dataframe tbody tr th {\n",
       "        vertical-align: top;\n",
       "    }\n",
       "\n",
       "    .dataframe thead th {\n",
       "        text-align: right;\n",
       "    }\n",
       "</style>\n",
       "<table border=\"1\" class=\"dataframe\">\n",
       "  <thead>\n",
       "    <tr style=\"text-align: right;\">\n",
       "      <th></th>\n",
       "      <th>longitude</th>\n",
       "      <th>latitude</th>\n",
       "      <th>housing_median_age</th>\n",
       "      <th>total_rooms</th>\n",
       "      <th>total_bedrooms</th>\n",
       "      <th>population</th>\n",
       "      <th>households</th>\n",
       "      <th>median_income</th>\n",
       "      <th>median_house_value</th>\n",
       "      <th>ocean_proximity</th>\n",
       "    </tr>\n",
       "  </thead>\n",
       "  <tbody>\n",
       "    <tr>\n",
       "      <th>0</th>\n",
       "      <td>-122.23</td>\n",
       "      <td>37.88</td>\n",
       "      <td>41.0</td>\n",
       "      <td>880.0</td>\n",
       "      <td>129.0</td>\n",
       "      <td>322.0</td>\n",
       "      <td>126.0</td>\n",
       "      <td>8.3252</td>\n",
       "      <td>452600.0</td>\n",
       "      <td>NEAR BAY</td>\n",
       "    </tr>\n",
       "    <tr>\n",
       "      <th>1</th>\n",
       "      <td>-122.22</td>\n",
       "      <td>37.86</td>\n",
       "      <td>21.0</td>\n",
       "      <td>7099.0</td>\n",
       "      <td>1106.0</td>\n",
       "      <td>2401.0</td>\n",
       "      <td>1138.0</td>\n",
       "      <td>8.3014</td>\n",
       "      <td>358500.0</td>\n",
       "      <td>NEAR BAY</td>\n",
       "    </tr>\n",
       "    <tr>\n",
       "      <th>2</th>\n",
       "      <td>-122.24</td>\n",
       "      <td>37.85</td>\n",
       "      <td>52.0</td>\n",
       "      <td>1467.0</td>\n",
       "      <td>190.0</td>\n",
       "      <td>496.0</td>\n",
       "      <td>177.0</td>\n",
       "      <td>7.2574</td>\n",
       "      <td>352100.0</td>\n",
       "      <td>NEAR BAY</td>\n",
       "    </tr>\n",
       "    <tr>\n",
       "      <th>3</th>\n",
       "      <td>-122.25</td>\n",
       "      <td>37.85</td>\n",
       "      <td>52.0</td>\n",
       "      <td>1274.0</td>\n",
       "      <td>235.0</td>\n",
       "      <td>558.0</td>\n",
       "      <td>219.0</td>\n",
       "      <td>5.6431</td>\n",
       "      <td>341300.0</td>\n",
       "      <td>NEAR BAY</td>\n",
       "    </tr>\n",
       "    <tr>\n",
       "      <th>4</th>\n",
       "      <td>-122.25</td>\n",
       "      <td>37.85</td>\n",
       "      <td>52.0</td>\n",
       "      <td>1627.0</td>\n",
       "      <td>280.0</td>\n",
       "      <td>565.0</td>\n",
       "      <td>259.0</td>\n",
       "      <td>3.8462</td>\n",
       "      <td>342200.0</td>\n",
       "      <td>NEAR BAY</td>\n",
       "    </tr>\n",
       "  </tbody>\n",
       "</table>\n",
       "</div>"
      ],
      "text/plain": [
       "   longitude  latitude  housing_median_age  total_rooms  total_bedrooms  \\\n",
       "0    -122.23     37.88                41.0        880.0           129.0   \n",
       "1    -122.22     37.86                21.0       7099.0          1106.0   \n",
       "2    -122.24     37.85                52.0       1467.0           190.0   \n",
       "3    -122.25     37.85                52.0       1274.0           235.0   \n",
       "4    -122.25     37.85                52.0       1627.0           280.0   \n",
       "\n",
       "   population  households  median_income  median_house_value ocean_proximity  \n",
       "0       322.0       126.0         8.3252            452600.0        NEAR BAY  \n",
       "1      2401.0      1138.0         8.3014            358500.0        NEAR BAY  \n",
       "2       496.0       177.0         7.2574            352100.0        NEAR BAY  \n",
       "3       558.0       219.0         5.6431            341300.0        NEAR BAY  \n",
       "4       565.0       259.0         3.8462            342200.0        NEAR BAY  "
      ]
     },
     "execution_count": 7,
     "metadata": {},
     "output_type": "execute_result"
    }
   ],
   "source": [
    "df.head()"
   ]
  },
  {
   "cell_type": "markdown",
   "id": "6fac3463",
   "metadata": {},
   "source": [
    "# DATA PREPARATION"
   ]
  },
  {
   "cell_type": "code",
   "execution_count": 8,
   "id": "566e4cb2",
   "metadata": {},
   "outputs": [
    {
     "data": {
      "text/plain": [
       "longitude             0\n",
       "latitude              0\n",
       "housing_median_age    0\n",
       "total_rooms           0\n",
       "total_bedrooms        0\n",
       "population            0\n",
       "households            0\n",
       "median_income         0\n",
       "median_house_value    0\n",
       "ocean_proximity       0\n",
       "dtype: int64"
      ]
     },
     "execution_count": 8,
     "metadata": {},
     "output_type": "execute_result"
    }
   ],
   "source": [
    "df1 = df.dropna()\n",
    "df1.isnull().sum()"
   ]
  },
  {
   "cell_type": "code",
   "execution_count": 9,
   "id": "bdb53973",
   "metadata": {},
   "outputs": [
    {
     "data": {
      "text/plain": [
       "0        6.984127\n",
       "1        6.238137\n",
       "2        8.288136\n",
       "3        5.817352\n",
       "4        6.281853\n",
       "           ...   \n",
       "20635    5.045455\n",
       "20636    6.114035\n",
       "20637    5.205543\n",
       "20638    5.329513\n",
       "20639    5.254717\n",
       "Name: rooms_per_household, Length: 20433, dtype: float64"
      ]
     },
     "execution_count": 9,
     "metadata": {},
     "output_type": "execute_result"
    }
   ],
   "source": [
    "df2 = df1.copy()\n",
    "df2['rooms_per_household'] = df2['total_rooms'] / df2['households']\n",
    "df2['rooms_per_household']"
   ]
  },
  {
   "cell_type": "code",
   "execution_count": 10,
   "id": "6b1ae374",
   "metadata": {},
   "outputs": [
    {
     "data": {
      "text/plain": [
       "0        0.146591\n",
       "1        0.155797\n",
       "2        0.129516\n",
       "3        0.184458\n",
       "4        0.172096\n",
       "           ...   \n",
       "20635    0.224625\n",
       "20636    0.215208\n",
       "20637    0.215173\n",
       "20638    0.219892\n",
       "20639    0.221185\n",
       "Name: bedrooms_per_room, Length: 20433, dtype: float64"
      ]
     },
     "execution_count": 10,
     "metadata": {},
     "output_type": "execute_result"
    }
   ],
   "source": [
    "# df3 = df2.copy()\n",
    "df2['bedrooms_per_room'] = df2['total_bedrooms'] / df2['total_rooms']\n",
    "df2['bedrooms_per_room']"
   ]
  },
  {
   "cell_type": "code",
   "execution_count": 11,
   "id": "b2976394",
   "metadata": {},
   "outputs": [
    {
     "data": {
      "text/plain": [
       "Index(['longitude', 'latitude', 'housing_median_age', 'total_rooms',\n",
       "       'total_bedrooms', 'population', 'households', 'median_income',\n",
       "       'median_house_value', 'ocean_proximity', 'rooms_per_household',\n",
       "       'bedrooms_per_room'],\n",
       "      dtype='object')"
      ]
     },
     "execution_count": 11,
     "metadata": {},
     "output_type": "execute_result"
    }
   ],
   "source": [
    "df2.columns"
   ]
  },
  {
   "cell_type": "code",
   "execution_count": 12,
   "id": "5c93aa05",
   "metadata": {
    "scrolled": false
   },
   "outputs": [
    {
     "data": {
      "text/plain": [
       "0        2.555556\n",
       "1        2.109842\n",
       "2        2.802260\n",
       "3        2.547945\n",
       "4        2.181467\n",
       "           ...   \n",
       "20635    2.560606\n",
       "20636    3.122807\n",
       "20637    2.325635\n",
       "20638    2.123209\n",
       "20639    2.616981\n",
       "Name: population_per_household, Length: 20433, dtype: float64"
      ]
     },
     "execution_count": 12,
     "metadata": {},
     "output_type": "execute_result"
    }
   ],
   "source": [
    "df2['population_per_household'] = df2['population'] / df2['households']\n",
    "df2['population_per_household']"
   ]
  },
  {
   "cell_type": "code",
   "execution_count": 13,
   "id": "ab045263",
   "metadata": {},
   "outputs": [
    {
     "data": {
      "text/plain": [
       "Index(['longitude', 'latitude', 'housing_median_age', 'total_rooms',\n",
       "       'total_bedrooms', 'population', 'households', 'median_income',\n",
       "       'median_house_value', 'ocean_proximity', 'rooms_per_household',\n",
       "       'bedrooms_per_room', 'population_per_household'],\n",
       "      dtype='object')"
      ]
     },
     "execution_count": 13,
     "metadata": {},
     "output_type": "execute_result"
    }
   ],
   "source": [
    "df2.columns"
   ]
  },
  {
   "cell_type": "markdown",
   "id": "a46f82c2",
   "metadata": {},
   "source": [
    "QUESTION 1"
   ]
  },
  {
   "cell_type": "code",
   "execution_count": 14,
   "id": "399fe461",
   "metadata": {},
   "outputs": [
    {
     "data": {
      "text/plain": [
       "0    <1H OCEAN\n",
       "Name: ocean_proximity, dtype: object"
      ]
     },
     "execution_count": 14,
     "metadata": {},
     "output_type": "execute_result"
    }
   ],
   "source": [
    "df2.ocean_proximity.mode()"
   ]
  },
  {
   "cell_type": "markdown",
   "id": "bc80adc0",
   "metadata": {},
   "source": [
    "# Splitting the data"
   ]
  },
  {
   "cell_type": "code",
   "execution_count": 16,
   "id": "a23b4363",
   "metadata": {},
   "outputs": [],
   "source": [
    "cat = ['ocean_proximity']"
   ]
  },
  {
   "cell_type": "code",
   "execution_count": 17,
   "id": "f2ea3f6d",
   "metadata": {
    "scrolled": true
   },
   "outputs": [
    {
     "data": {
      "text/html": [
       "<div>\n",
       "<style scoped>\n",
       "    .dataframe tbody tr th:only-of-type {\n",
       "        vertical-align: middle;\n",
       "    }\n",
       "\n",
       "    .dataframe tbody tr th {\n",
       "        vertical-align: top;\n",
       "    }\n",
       "\n",
       "    .dataframe thead th {\n",
       "        text-align: right;\n",
       "    }\n",
       "</style>\n",
       "<table border=\"1\" class=\"dataframe\">\n",
       "  <thead>\n",
       "    <tr style=\"text-align: right;\">\n",
       "      <th></th>\n",
       "      <th>longitude</th>\n",
       "      <th>latitude</th>\n",
       "      <th>housing_median_age</th>\n",
       "      <th>total_rooms</th>\n",
       "      <th>total_bedrooms</th>\n",
       "      <th>population</th>\n",
       "      <th>households</th>\n",
       "      <th>median_income</th>\n",
       "      <th>median_house_value</th>\n",
       "      <th>rooms_per_household</th>\n",
       "      <th>bedrooms_per_room</th>\n",
       "      <th>population_per_household</th>\n",
       "    </tr>\n",
       "  </thead>\n",
       "  <tbody>\n",
       "    <tr>\n",
       "      <th>longitude</th>\n",
       "      <td>1.000000</td>\n",
       "      <td>-0.924616</td>\n",
       "      <td>-0.109357</td>\n",
       "      <td>0.045480</td>\n",
       "      <td>0.069608</td>\n",
       "      <td>0.100270</td>\n",
       "      <td>0.056513</td>\n",
       "      <td>-0.015550</td>\n",
       "      <td>-0.045398</td>\n",
       "      <td>-0.027307</td>\n",
       "      <td>0.092657</td>\n",
       "      <td>0.002304</td>\n",
       "    </tr>\n",
       "    <tr>\n",
       "      <th>latitude</th>\n",
       "      <td>-0.924616</td>\n",
       "      <td>1.000000</td>\n",
       "      <td>0.011899</td>\n",
       "      <td>-0.036667</td>\n",
       "      <td>-0.066983</td>\n",
       "      <td>-0.108997</td>\n",
       "      <td>-0.071774</td>\n",
       "      <td>-0.079626</td>\n",
       "      <td>-0.144638</td>\n",
       "      <td>0.106423</td>\n",
       "      <td>-0.113815</td>\n",
       "      <td>0.002522</td>\n",
       "    </tr>\n",
       "    <tr>\n",
       "      <th>housing_median_age</th>\n",
       "      <td>-0.109357</td>\n",
       "      <td>0.011899</td>\n",
       "      <td>1.000000</td>\n",
       "      <td>-0.360628</td>\n",
       "      <td>-0.320451</td>\n",
       "      <td>-0.295787</td>\n",
       "      <td>-0.302768</td>\n",
       "      <td>-0.118278</td>\n",
       "      <td>0.106432</td>\n",
       "      <td>-0.153031</td>\n",
       "      <td>0.136089</td>\n",
       "      <td>0.013258</td>\n",
       "    </tr>\n",
       "    <tr>\n",
       "      <th>total_rooms</th>\n",
       "      <td>0.045480</td>\n",
       "      <td>-0.036667</td>\n",
       "      <td>-0.360628</td>\n",
       "      <td>1.000000</td>\n",
       "      <td>0.930380</td>\n",
       "      <td>0.857281</td>\n",
       "      <td>0.918992</td>\n",
       "      <td>0.197882</td>\n",
       "      <td>0.133294</td>\n",
       "      <td>0.133482</td>\n",
       "      <td>-0.187900</td>\n",
       "      <td>-0.024596</td>\n",
       "    </tr>\n",
       "    <tr>\n",
       "      <th>total_bedrooms</th>\n",
       "      <td>0.069608</td>\n",
       "      <td>-0.066983</td>\n",
       "      <td>-0.320451</td>\n",
       "      <td>0.930380</td>\n",
       "      <td>1.000000</td>\n",
       "      <td>0.877747</td>\n",
       "      <td>0.979728</td>\n",
       "      <td>-0.007723</td>\n",
       "      <td>0.049686</td>\n",
       "      <td>0.001538</td>\n",
       "      <td>0.084238</td>\n",
       "      <td>-0.028355</td>\n",
       "    </tr>\n",
       "    <tr>\n",
       "      <th>population</th>\n",
       "      <td>0.100270</td>\n",
       "      <td>-0.108997</td>\n",
       "      <td>-0.295787</td>\n",
       "      <td>0.857281</td>\n",
       "      <td>0.877747</td>\n",
       "      <td>1.000000</td>\n",
       "      <td>0.907186</td>\n",
       "      <td>0.005087</td>\n",
       "      <td>-0.025300</td>\n",
       "      <td>-0.071898</td>\n",
       "      <td>0.035319</td>\n",
       "      <td>0.070062</td>\n",
       "    </tr>\n",
       "    <tr>\n",
       "      <th>households</th>\n",
       "      <td>0.056513</td>\n",
       "      <td>-0.071774</td>\n",
       "      <td>-0.302768</td>\n",
       "      <td>0.918992</td>\n",
       "      <td>0.979728</td>\n",
       "      <td>0.907186</td>\n",
       "      <td>1.000000</td>\n",
       "      <td>0.013434</td>\n",
       "      <td>0.064894</td>\n",
       "      <td>-0.080165</td>\n",
       "      <td>0.065087</td>\n",
       "      <td>-0.027336</td>\n",
       "    </tr>\n",
       "    <tr>\n",
       "      <th>median_income</th>\n",
       "      <td>-0.015550</td>\n",
       "      <td>-0.079626</td>\n",
       "      <td>-0.118278</td>\n",
       "      <td>0.197882</td>\n",
       "      <td>-0.007723</td>\n",
       "      <td>0.005087</td>\n",
       "      <td>0.013434</td>\n",
       "      <td>1.000000</td>\n",
       "      <td>0.688355</td>\n",
       "      <td>0.325307</td>\n",
       "      <td>-0.615661</td>\n",
       "      <td>0.018894</td>\n",
       "    </tr>\n",
       "    <tr>\n",
       "      <th>median_house_value</th>\n",
       "      <td>-0.045398</td>\n",
       "      <td>-0.144638</td>\n",
       "      <td>0.106432</td>\n",
       "      <td>0.133294</td>\n",
       "      <td>0.049686</td>\n",
       "      <td>-0.025300</td>\n",
       "      <td>0.064894</td>\n",
       "      <td>0.688355</td>\n",
       "      <td>1.000000</td>\n",
       "      <td>0.151344</td>\n",
       "      <td>-0.255880</td>\n",
       "      <td>-0.023639</td>\n",
       "    </tr>\n",
       "    <tr>\n",
       "      <th>rooms_per_household</th>\n",
       "      <td>-0.027307</td>\n",
       "      <td>0.106423</td>\n",
       "      <td>-0.153031</td>\n",
       "      <td>0.133482</td>\n",
       "      <td>0.001538</td>\n",
       "      <td>-0.071898</td>\n",
       "      <td>-0.080165</td>\n",
       "      <td>0.325307</td>\n",
       "      <td>0.151344</td>\n",
       "      <td>1.000000</td>\n",
       "      <td>-0.416952</td>\n",
       "      <td>-0.004873</td>\n",
       "    </tr>\n",
       "    <tr>\n",
       "      <th>bedrooms_per_room</th>\n",
       "      <td>0.092657</td>\n",
       "      <td>-0.113815</td>\n",
       "      <td>0.136089</td>\n",
       "      <td>-0.187900</td>\n",
       "      <td>0.084238</td>\n",
       "      <td>0.035319</td>\n",
       "      <td>0.065087</td>\n",
       "      <td>-0.615661</td>\n",
       "      <td>-0.255880</td>\n",
       "      <td>-0.416952</td>\n",
       "      <td>1.000000</td>\n",
       "      <td>0.002938</td>\n",
       "    </tr>\n",
       "    <tr>\n",
       "      <th>population_per_household</th>\n",
       "      <td>0.002304</td>\n",
       "      <td>0.002522</td>\n",
       "      <td>0.013258</td>\n",
       "      <td>-0.024596</td>\n",
       "      <td>-0.028355</td>\n",
       "      <td>0.070062</td>\n",
       "      <td>-0.027336</td>\n",
       "      <td>0.018894</td>\n",
       "      <td>-0.023639</td>\n",
       "      <td>-0.004873</td>\n",
       "      <td>0.002938</td>\n",
       "      <td>1.000000</td>\n",
       "    </tr>\n",
       "  </tbody>\n",
       "</table>\n",
       "</div>"
      ],
      "text/plain": [
       "                          longitude  latitude  housing_median_age  \\\n",
       "longitude                  1.000000 -0.924616           -0.109357   \n",
       "latitude                  -0.924616  1.000000            0.011899   \n",
       "housing_median_age        -0.109357  0.011899            1.000000   \n",
       "total_rooms                0.045480 -0.036667           -0.360628   \n",
       "total_bedrooms             0.069608 -0.066983           -0.320451   \n",
       "population                 0.100270 -0.108997           -0.295787   \n",
       "households                 0.056513 -0.071774           -0.302768   \n",
       "median_income             -0.015550 -0.079626           -0.118278   \n",
       "median_house_value        -0.045398 -0.144638            0.106432   \n",
       "rooms_per_household       -0.027307  0.106423           -0.153031   \n",
       "bedrooms_per_room          0.092657 -0.113815            0.136089   \n",
       "population_per_household   0.002304  0.002522            0.013258   \n",
       "\n",
       "                          total_rooms  total_bedrooms  population  households  \\\n",
       "longitude                    0.045480        0.069608    0.100270    0.056513   \n",
       "latitude                    -0.036667       -0.066983   -0.108997   -0.071774   \n",
       "housing_median_age          -0.360628       -0.320451   -0.295787   -0.302768   \n",
       "total_rooms                  1.000000        0.930380    0.857281    0.918992   \n",
       "total_bedrooms               0.930380        1.000000    0.877747    0.979728   \n",
       "population                   0.857281        0.877747    1.000000    0.907186   \n",
       "households                   0.918992        0.979728    0.907186    1.000000   \n",
       "median_income                0.197882       -0.007723    0.005087    0.013434   \n",
       "median_house_value           0.133294        0.049686   -0.025300    0.064894   \n",
       "rooms_per_household          0.133482        0.001538   -0.071898   -0.080165   \n",
       "bedrooms_per_room           -0.187900        0.084238    0.035319    0.065087   \n",
       "population_per_household    -0.024596       -0.028355    0.070062   -0.027336   \n",
       "\n",
       "                          median_income  median_house_value  \\\n",
       "longitude                     -0.015550           -0.045398   \n",
       "latitude                      -0.079626           -0.144638   \n",
       "housing_median_age            -0.118278            0.106432   \n",
       "total_rooms                    0.197882            0.133294   \n",
       "total_bedrooms                -0.007723            0.049686   \n",
       "population                     0.005087           -0.025300   \n",
       "households                     0.013434            0.064894   \n",
       "median_income                  1.000000            0.688355   \n",
       "median_house_value             0.688355            1.000000   \n",
       "rooms_per_household            0.325307            0.151344   \n",
       "bedrooms_per_room             -0.615661           -0.255880   \n",
       "population_per_household       0.018894           -0.023639   \n",
       "\n",
       "                          rooms_per_household  bedrooms_per_room  \\\n",
       "longitude                           -0.027307           0.092657   \n",
       "latitude                             0.106423          -0.113815   \n",
       "housing_median_age                  -0.153031           0.136089   \n",
       "total_rooms                          0.133482          -0.187900   \n",
       "total_bedrooms                       0.001538           0.084238   \n",
       "population                          -0.071898           0.035319   \n",
       "households                          -0.080165           0.065087   \n",
       "median_income                        0.325307          -0.615661   \n",
       "median_house_value                   0.151344          -0.255880   \n",
       "rooms_per_household                  1.000000          -0.416952   \n",
       "bedrooms_per_room                   -0.416952           1.000000   \n",
       "population_per_household            -0.004873           0.002938   \n",
       "\n",
       "                          population_per_household  \n",
       "longitude                                 0.002304  \n",
       "latitude                                  0.002522  \n",
       "housing_median_age                        0.013258  \n",
       "total_rooms                              -0.024596  \n",
       "total_bedrooms                           -0.028355  \n",
       "population                                0.070062  \n",
       "households                               -0.027336  \n",
       "median_income                             0.018894  \n",
       "median_house_value                       -0.023639  \n",
       "rooms_per_household                      -0.004873  \n",
       "bedrooms_per_room                         0.002938  \n",
       "population_per_household                  1.000000  "
      ]
     },
     "execution_count": 17,
     "metadata": {},
     "output_type": "execute_result"
    }
   ],
   "source": [
    "df2.corr()"
   ]
  },
  {
   "cell_type": "code",
   "execution_count": 18,
   "id": "f65765b0",
   "metadata": {},
   "outputs": [
    {
     "data": {
      "text/plain": [
       "longitude            longitude              1.000000\n",
       "latitude             latitude               1.000000\n",
       "bedrooms_per_room    bedrooms_per_room      1.000000\n",
       "rooms_per_household  rooms_per_household    1.000000\n",
       "median_house_value   median_house_value     1.000000\n",
       "                                              ...   \n",
       "bedrooms_per_room    rooms_per_household   -0.416952\n",
       "                     median_income         -0.615661\n",
       "median_income        bedrooms_per_room     -0.615661\n",
       "longitude            latitude              -0.924616\n",
       "latitude             longitude             -0.924616\n",
       "Length: 144, dtype: float64"
      ]
     },
     "execution_count": 18,
     "metadata": {},
     "output_type": "execute_result"
    }
   ],
   "source": [
    "df2.corr().unstack().sort_values(ascending = False)"
   ]
  },
  {
   "cell_type": "markdown",
   "id": "4be9eae9",
   "metadata": {},
   "source": [
    "# Make median_house_value binary"
   ]
  },
  {
   "cell_type": "code",
   "execution_count": 19,
   "id": "d11f00cc",
   "metadata": {},
   "outputs": [],
   "source": [
    "data_class = df2.copy()\n",
    "mean = data_class['median_house_value'].mean()\n",
    "\n",
    "data_class['above_average'] = np.where(data_class['median_house_value']>=mean,1,0)"
   ]
  },
  {
   "cell_type": "code",
   "execution_count": 41,
   "id": "5be5a101",
   "metadata": {},
   "outputs": [],
   "source": [
    "data_class = data_class.drop('median_house_value')"
   ]
  },
  {
   "cell_type": "code",
   "execution_count": 21,
   "id": "400c09b6",
   "metadata": {},
   "outputs": [],
   "source": [
    "from sklearn.model_selection import train_test_split"
   ]
  },
  {
   "cell_type": "code",
   "execution_count": 22,
   "id": "ca5654dd",
   "metadata": {},
   "outputs": [],
   "source": [
    "df_train_full, df_test = train_test_split(data_class, test_size=0.2, random_state=42)"
   ]
  },
  {
   "cell_type": "code",
   "execution_count": 23,
   "id": "de88076d",
   "metadata": {},
   "outputs": [],
   "source": [
    "df_train, df_val = train_test_split(df_train_full, test_size=0.25, random_state=42)"
   ]
  },
  {
   "cell_type": "code",
   "execution_count": 24,
   "id": "6baebc0a",
   "metadata": {},
   "outputs": [],
   "source": [
    "df_train = df_train.reset_index(drop=True)\n",
    "df_val = df_val.reset_index(drop=True)\n",
    "df_test = df_test.reset_index(drop=True)"
   ]
  },
  {
   "cell_type": "code",
   "execution_count": 25,
   "id": "53613be3",
   "metadata": {},
   "outputs": [],
   "source": [
    "y_train = df_train.above_average.values\n",
    "y_val = df_val.above_average.values\n",
    "y_test = df_test.above_average.values"
   ]
  },
  {
   "cell_type": "code",
   "execution_count": 36,
   "id": "3bc81044",
   "metadata": {},
   "outputs": [
    {
     "data": {
      "text/html": [
       "<div>\n",
       "<style scoped>\n",
       "    .dataframe tbody tr th:only-of-type {\n",
       "        vertical-align: middle;\n",
       "    }\n",
       "\n",
       "    .dataframe tbody tr th {\n",
       "        vertical-align: top;\n",
       "    }\n",
       "\n",
       "    .dataframe thead th {\n",
       "        text-align: right;\n",
       "    }\n",
       "</style>\n",
       "<table border=\"1\" class=\"dataframe\">\n",
       "  <thead>\n",
       "    <tr style=\"text-align: right;\">\n",
       "      <th></th>\n",
       "      <th>longitude</th>\n",
       "      <th>latitude</th>\n",
       "      <th>housing_median_age</th>\n",
       "      <th>total_rooms</th>\n",
       "      <th>total_bedrooms</th>\n",
       "      <th>population</th>\n",
       "      <th>households</th>\n",
       "      <th>median_income</th>\n",
       "      <th>ocean_proximity</th>\n",
       "      <th>rooms_per_household</th>\n",
       "      <th>bedrooms_per_room</th>\n",
       "      <th>population_per_household</th>\n",
       "    </tr>\n",
       "  </thead>\n",
       "  <tbody>\n",
       "    <tr>\n",
       "      <th>0</th>\n",
       "      <td>-117.96</td>\n",
       "      <td>33.86</td>\n",
       "      <td>35.0</td>\n",
       "      <td>2146.0</td>\n",
       "      <td>430.0</td>\n",
       "      <td>1230.0</td>\n",
       "      <td>429.0</td>\n",
       "      <td>3.7813</td>\n",
       "      <td>&lt;1H OCEAN</td>\n",
       "      <td>5.002331</td>\n",
       "      <td>0.200373</td>\n",
       "      <td>2.867133</td>\n",
       "    </tr>\n",
       "    <tr>\n",
       "      <th>1</th>\n",
       "      <td>-119.50</td>\n",
       "      <td>35.27</td>\n",
       "      <td>23.0</td>\n",
       "      <td>3827.0</td>\n",
       "      <td>696.0</td>\n",
       "      <td>1993.0</td>\n",
       "      <td>617.0</td>\n",
       "      <td>3.0742</td>\n",
       "      <td>INLAND</td>\n",
       "      <td>6.202593</td>\n",
       "      <td>0.181866</td>\n",
       "      <td>3.230146</td>\n",
       "    </tr>\n",
       "    <tr>\n",
       "      <th>2</th>\n",
       "      <td>-117.04</td>\n",
       "      <td>32.71</td>\n",
       "      <td>28.0</td>\n",
       "      <td>5274.0</td>\n",
       "      <td>991.0</td>\n",
       "      <td>3727.0</td>\n",
       "      <td>961.0</td>\n",
       "      <td>3.5700</td>\n",
       "      <td>NEAR OCEAN</td>\n",
       "      <td>5.488033</td>\n",
       "      <td>0.187903</td>\n",
       "      <td>3.878252</td>\n",
       "    </tr>\n",
       "    <tr>\n",
       "      <th>3</th>\n",
       "      <td>-116.41</td>\n",
       "      <td>33.74</td>\n",
       "      <td>17.0</td>\n",
       "      <td>4289.0</td>\n",
       "      <td>893.0</td>\n",
       "      <td>958.0</td>\n",
       "      <td>440.0</td>\n",
       "      <td>2.4659</td>\n",
       "      <td>INLAND</td>\n",
       "      <td>9.747727</td>\n",
       "      <td>0.208207</td>\n",
       "      <td>2.177273</td>\n",
       "    </tr>\n",
       "    <tr>\n",
       "      <th>4</th>\n",
       "      <td>-121.99</td>\n",
       "      <td>37.25</td>\n",
       "      <td>25.0</td>\n",
       "      <td>1743.0</td>\n",
       "      <td>212.0</td>\n",
       "      <td>604.0</td>\n",
       "      <td>200.0</td>\n",
       "      <td>10.7582</td>\n",
       "      <td>&lt;1H OCEAN</td>\n",
       "      <td>8.715000</td>\n",
       "      <td>0.121629</td>\n",
       "      <td>3.020000</td>\n",
       "    </tr>\n",
       "    <tr>\n",
       "      <th>...</th>\n",
       "      <td>...</td>\n",
       "      <td>...</td>\n",
       "      <td>...</td>\n",
       "      <td>...</td>\n",
       "      <td>...</td>\n",
       "      <td>...</td>\n",
       "      <td>...</td>\n",
       "      <td>...</td>\n",
       "      <td>...</td>\n",
       "      <td>...</td>\n",
       "      <td>...</td>\n",
       "      <td>...</td>\n",
       "    </tr>\n",
       "    <tr>\n",
       "      <th>12254</th>\n",
       "      <td>-118.40</td>\n",
       "      <td>34.11</td>\n",
       "      <td>32.0</td>\n",
       "      <td>5578.0</td>\n",
       "      <td>753.0</td>\n",
       "      <td>1567.0</td>\n",
       "      <td>697.0</td>\n",
       "      <td>15.0001</td>\n",
       "      <td>&lt;1H OCEAN</td>\n",
       "      <td>8.002869</td>\n",
       "      <td>0.134995</td>\n",
       "      <td>2.248207</td>\n",
       "    </tr>\n",
       "    <tr>\n",
       "      <th>12255</th>\n",
       "      <td>-117.97</td>\n",
       "      <td>34.04</td>\n",
       "      <td>28.0</td>\n",
       "      <td>1686.0</td>\n",
       "      <td>417.0</td>\n",
       "      <td>1355.0</td>\n",
       "      <td>388.0</td>\n",
       "      <td>2.5192</td>\n",
       "      <td>&lt;1H OCEAN</td>\n",
       "      <td>4.345361</td>\n",
       "      <td>0.247331</td>\n",
       "      <td>3.492268</td>\n",
       "    </tr>\n",
       "    <tr>\n",
       "      <th>12256</th>\n",
       "      <td>-117.09</td>\n",
       "      <td>32.76</td>\n",
       "      <td>44.0</td>\n",
       "      <td>1139.0</td>\n",
       "      <td>214.0</td>\n",
       "      <td>470.0</td>\n",
       "      <td>217.0</td>\n",
       "      <td>3.5481</td>\n",
       "      <td>NEAR OCEAN</td>\n",
       "      <td>5.248848</td>\n",
       "      <td>0.187884</td>\n",
       "      <td>2.165899</td>\n",
       "    </tr>\n",
       "    <tr>\n",
       "      <th>12257</th>\n",
       "      <td>-118.16</td>\n",
       "      <td>34.19</td>\n",
       "      <td>42.0</td>\n",
       "      <td>2076.0</td>\n",
       "      <td>462.0</td>\n",
       "      <td>1641.0</td>\n",
       "      <td>436.0</td>\n",
       "      <td>2.2326</td>\n",
       "      <td>&lt;1H OCEAN</td>\n",
       "      <td>4.761468</td>\n",
       "      <td>0.222543</td>\n",
       "      <td>3.763761</td>\n",
       "    </tr>\n",
       "    <tr>\n",
       "      <th>12258</th>\n",
       "      <td>-117.97</td>\n",
       "      <td>33.94</td>\n",
       "      <td>36.0</td>\n",
       "      <td>1870.0</td>\n",
       "      <td>338.0</td>\n",
       "      <td>947.0</td>\n",
       "      <td>324.0</td>\n",
       "      <td>4.1205</td>\n",
       "      <td>&lt;1H OCEAN</td>\n",
       "      <td>5.771605</td>\n",
       "      <td>0.180749</td>\n",
       "      <td>2.922840</td>\n",
       "    </tr>\n",
       "  </tbody>\n",
       "</table>\n",
       "<p>12259 rows × 12 columns</p>\n",
       "</div>"
      ],
      "text/plain": [
       "       longitude  latitude  housing_median_age  total_rooms  total_bedrooms  \\\n",
       "0        -117.96     33.86                35.0       2146.0           430.0   \n",
       "1        -119.50     35.27                23.0       3827.0           696.0   \n",
       "2        -117.04     32.71                28.0       5274.0           991.0   \n",
       "3        -116.41     33.74                17.0       4289.0           893.0   \n",
       "4        -121.99     37.25                25.0       1743.0           212.0   \n",
       "...          ...       ...                 ...          ...             ...   \n",
       "12254    -118.40     34.11                32.0       5578.0           753.0   \n",
       "12255    -117.97     34.04                28.0       1686.0           417.0   \n",
       "12256    -117.09     32.76                44.0       1139.0           214.0   \n",
       "12257    -118.16     34.19                42.0       2076.0           462.0   \n",
       "12258    -117.97     33.94                36.0       1870.0           338.0   \n",
       "\n",
       "       population  households  median_income ocean_proximity  \\\n",
       "0          1230.0       429.0         3.7813       <1H OCEAN   \n",
       "1          1993.0       617.0         3.0742          INLAND   \n",
       "2          3727.0       961.0         3.5700      NEAR OCEAN   \n",
       "3           958.0       440.0         2.4659          INLAND   \n",
       "4           604.0       200.0        10.7582       <1H OCEAN   \n",
       "...           ...         ...            ...             ...   \n",
       "12254      1567.0       697.0        15.0001       <1H OCEAN   \n",
       "12255      1355.0       388.0         2.5192       <1H OCEAN   \n",
       "12256       470.0       217.0         3.5481      NEAR OCEAN   \n",
       "12257      1641.0       436.0         2.2326       <1H OCEAN   \n",
       "12258       947.0       324.0         4.1205       <1H OCEAN   \n",
       "\n",
       "       rooms_per_household  bedrooms_per_room  population_per_household  \n",
       "0                 5.002331           0.200373                  2.867133  \n",
       "1                 6.202593           0.181866                  3.230146  \n",
       "2                 5.488033           0.187903                  3.878252  \n",
       "3                 9.747727           0.208207                  2.177273  \n",
       "4                 8.715000           0.121629                  3.020000  \n",
       "...                    ...                ...                       ...  \n",
       "12254             8.002869           0.134995                  2.248207  \n",
       "12255             4.345361           0.247331                  3.492268  \n",
       "12256             5.248848           0.187884                  2.165899  \n",
       "12257             4.761468           0.222543                  3.763761  \n",
       "12258             5.771605           0.180749                  2.922840  \n",
       "\n",
       "[12259 rows x 12 columns]"
      ]
     },
     "execution_count": 36,
     "metadata": {},
     "output_type": "execute_result"
    }
   ],
   "source": [
    "df_train"
   ]
  },
  {
   "cell_type": "markdown",
   "id": "8b10f0ce",
   "metadata": {},
   "source": [
    "# Mutual information"
   ]
  },
  {
   "cell_type": "code",
   "execution_count": 26,
   "id": "bf67fcd1",
   "metadata": {},
   "outputs": [],
   "source": [
    "from sklearn.metrics import mutual_info_score"
   ]
  },
  {
   "cell_type": "code",
   "execution_count": 27,
   "id": "663aea15",
   "metadata": {},
   "outputs": [],
   "source": [
    "def calculate_mi(series):\n",
    "    return mutual_info_score(series, df_train.above_average)\n",
    "\n",
    "df_mi = df_train[cat].apply(calculate_mi)\n",
    "df_mi = df_mi.sort_values(ascending=False).to_frame(name='MI')"
   ]
  },
  {
   "cell_type": "code",
   "execution_count": 28,
   "id": "a6c0a22b",
   "metadata": {},
   "outputs": [
    {
     "data": {
      "text/html": [
       "<div>\n",
       "<style scoped>\n",
       "    .dataframe tbody tr th:only-of-type {\n",
       "        vertical-align: middle;\n",
       "    }\n",
       "\n",
       "    .dataframe tbody tr th {\n",
       "        vertical-align: top;\n",
       "    }\n",
       "\n",
       "    .dataframe thead th {\n",
       "        text-align: right;\n",
       "    }\n",
       "</style>\n",
       "<table border=\"1\" class=\"dataframe\">\n",
       "  <thead>\n",
       "    <tr style=\"text-align: right;\">\n",
       "      <th></th>\n",
       "      <th>MI</th>\n",
       "    </tr>\n",
       "  </thead>\n",
       "  <tbody>\n",
       "    <tr>\n",
       "      <th>ocean_proximity</th>\n",
       "      <td>0.100126</td>\n",
       "    </tr>\n",
       "  </tbody>\n",
       "</table>\n",
       "</div>"
      ],
      "text/plain": [
       "                       MI\n",
       "ocean_proximity  0.100126"
      ]
     },
     "execution_count": 28,
     "metadata": {},
     "output_type": "execute_result"
    }
   ],
   "source": [
    "df_mi"
   ]
  },
  {
   "cell_type": "code",
   "execution_count": 29,
   "id": "ab8aa316",
   "metadata": {},
   "outputs": [],
   "source": [
    "df_train = df_train.drop('above_average', axis=1)\n",
    "df_val = df_val.drop('above_average', axis=1)\n",
    "df_test = df_test.drop('above_average', axis=1)"
   ]
  },
  {
   "cell_type": "markdown",
   "id": "92590bc2",
   "metadata": {},
   "source": [
    "# logistic regression"
   ]
  },
  {
   "cell_type": "code",
   "execution_count": 42,
   "id": "8b7af560",
   "metadata": {},
   "outputs": [],
   "source": [
    "from sklearn.feature_extraction import DictVectorizer\n",
    "from sklearn.linear_model import LogisticRegression\n",
    "from sklearn.metrics import accuracy_score"
   ]
  },
  {
   "cell_type": "code",
   "execution_count": 43,
   "id": "1d948e3c",
   "metadata": {},
   "outputs": [],
   "source": [
    "numerical = ['latitude',\n",
    "'longitude',\n",
    "'housing_median_age',\n",
    "'total_rooms',\n",
    "'total_bedrooms',\n",
    "'population',\n",
    "'households',\n",
    "'median_income', \n",
    "'rooms_per_household',\n",
    "'bedrooms_per_room',\n",
    "'population_per_household']"
   ]
  },
  {
   "cell_type": "code",
   "execution_count": 44,
   "id": "965b9d4d",
   "metadata": {
    "scrolled": true
   },
   "outputs": [],
   "source": [
    "train_dict = df_train[cat + numerical].to_dict(orient='records')\n",
    "\n",
    "dv = DictVectorizer(sparse=False)\n",
    "dv.fit(train_dict)\n",
    "\n",
    "x_train = dv.transform(train_dict)"
   ]
  },
  {
   "cell_type": "code",
   "execution_count": 48,
   "id": "8646a080",
   "metadata": {},
   "outputs": [
    {
     "name": "stderr",
     "output_type": "stream",
     "text": [
      "C:\\Users\\HP-PC\\anaconda3\\lib\\site-packages\\sklearn\\linear_model\\_logistic.py:814: ConvergenceWarning: lbfgs failed to converge (status=1):\n",
      "STOP: TOTAL NO. of ITERATIONS REACHED LIMIT.\n",
      "\n",
      "Increase the number of iterations (max_iter) or scale the data as shown in:\n",
      "    https://scikit-learn.org/stable/modules/preprocessing.html\n",
      "Please also refer to the documentation for alternative solver options:\n",
      "    https://scikit-learn.org/stable/modules/linear_model.html#logistic-regression\n",
      "  n_iter_i = _check_optimize_result(\n"
     ]
    },
    {
     "name": "stdout",
     "output_type": "stream",
     "text": [
      "0.8\n"
     ]
    }
   ],
   "source": [
    "model = LogisticRegression(solver='lbfgs', C=1.0, random_state=42)\n",
    "model.fit(x_train, y_train)\n",
    "\n",
    "val_dict = df_val[cat + numerical].to_dict(orient='records')\n",
    "x_val = dv.transform(val_dict)\n",
    "\n",
    "y_pred = model.predict(x_val)\n",
    "\n",
    "accuracy = np.round(accuracy_score(y_val, y_pred),2)\n",
    "print(accuracy)"
   ]
  },
  {
   "cell_type": "markdown",
   "id": "66cb483f",
   "metadata": {},
   "source": [
    "# feature elimination technique"
   ]
  },
  {
   "cell_type": "code",
   "execution_count": 49,
   "id": "f77da66c",
   "metadata": {},
   "outputs": [
    {
     "data": {
      "text/plain": [
       "['ocean_proximity',\n",
       " 'latitude',\n",
       " 'longitude',\n",
       " 'housing_median_age',\n",
       " 'total_rooms',\n",
       " 'total_bedrooms',\n",
       " 'population',\n",
       " 'households',\n",
       " 'median_income',\n",
       " 'rooms_per_household',\n",
       " 'bedrooms_per_room',\n",
       " 'population_per_household']"
      ]
     },
     "execution_count": 49,
     "metadata": {},
     "output_type": "execute_result"
    }
   ],
   "source": [
    "features = cat + numerical\n",
    "features"
   ]
  },
  {
   "cell_type": "code",
   "execution_count": 54,
   "id": "5ef6b076",
   "metadata": {},
   "outputs": [
    {
     "name": "stdout",
     "output_type": "stream",
     "text": [
      "ocean_proximity -0.018204061658918524 0.8182040616589186\n",
      "latitude -0.02040616589185218 0.8204061658918522\n",
      "longitude -0.014533887937362322 0.8145338879373624\n",
      "housing_median_age -0.022363591876682132 0.8223635918766822\n",
      "total_rooms -0.024321017861512084 0.8243210178615121\n",
      "total_bedrooms -0.024565696109615787 0.8245656961096158\n",
      "population 0.0011255199412772976 0.7988744800587227\n",
      "households -0.027012478590653255 0.8270124785906533\n",
      "median_income 0.01702960606802062 0.7829703939319794\n",
      "rooms_per_household -0.027991191583068176 0.8279911915830682\n",
      "bedrooms_per_room 0.002593589429899734 0.7974064105701003\n",
      "population_per_household -0.026278443846342037 0.8262784438463421\n"
     ]
    }
   ],
   "source": [
    "import warnings\n",
    "warnings.filterwarnings(\"ignore\")\n",
    "\n",
    "\n",
    "orig_score = accuracy\n",
    "\n",
    "\n",
    "for c in features:\n",
    "    subset = features.copy()\n",
    "    subset.remove(c)\n",
    "    \n",
    "    train_dict = df_train[subset].to_dict(orient='records')\n",
    "\n",
    "    dv = DictVectorizer(sparse=False)\n",
    "    dv.fit(train_dict)\n",
    "\n",
    "    x_train = dv.transform(train_dict)\n",
    "\n",
    "    model = LogisticRegression(solver='lbfgs', C=1.0, random_state=42)\n",
    "    model.fit(x_train, y_train)\n",
    "\n",
    "    val_dict = df_val[subset].to_dict(orient='records')\n",
    "    x_val = dv.transform(val_dict)\n",
    "\n",
    "    y_pred = model.predict(x_val)\n",
    "\n",
    "    score = accuracy_score(y_val, y_pred)\n",
    "    print(c, orig_score - score, score)"
   ]
  },
  {
   "cell_type": "markdown",
   "id": "e30d5253",
   "metadata": {},
   "source": [
    "# ridge regression"
   ]
  },
  {
   "cell_type": "code",
   "execution_count": 63,
   "id": "d26e296e",
   "metadata": {},
   "outputs": [],
   "source": [
    "df2['median_house_value']=np.log1p(df2['median_house_value'])"
   ]
  },
  {
   "cell_type": "code",
   "execution_count": 64,
   "id": "17a145dc",
   "metadata": {},
   "outputs": [],
   "source": [
    "df_train_full, df_test = train_test_split(df2, test_size=0.2, random_state=42)"
   ]
  },
  {
   "cell_type": "code",
   "execution_count": 65,
   "id": "1bac519e",
   "metadata": {},
   "outputs": [],
   "source": [
    "df_train, df_val = train_test_split(df_train_full, test_size=0.25, random_state=42)"
   ]
  },
  {
   "cell_type": "code",
   "execution_count": 66,
   "id": "d2fcb3cb",
   "metadata": {},
   "outputs": [],
   "source": [
    "df_train = df_train.reset_index(drop=True)\n",
    "df_val = df_val.reset_index(drop=True)\n",
    "df_test = df_test.reset_index(drop=True)"
   ]
  },
  {
   "cell_type": "code",
   "execution_count": 67,
   "id": "e7773663",
   "metadata": {},
   "outputs": [],
   "source": [
    "y_train = df_train.median_house_value.values\n",
    "y_val = df_val.median_house_value.values\n",
    "y_test = df_test.median_house_value.values"
   ]
  },
  {
   "cell_type": "code",
   "execution_count": 68,
   "id": "5e1a0cdc",
   "metadata": {},
   "outputs": [],
   "source": [
    "del df_train['median_house_value']\n",
    "del df_val['median_house_value']\n",
    "del df_test['median_house_value']"
   ]
  },
  {
   "cell_type": "code",
   "execution_count": 69,
   "id": "fa924507",
   "metadata": {},
   "outputs": [],
   "source": [
    "train_dict = df_train[cat + numerical].to_dict(orient='records')"
   ]
  },
  {
   "cell_type": "code",
   "execution_count": 70,
   "id": "e7d9e1b5",
   "metadata": {},
   "outputs": [],
   "source": [
    "dv = DictVectorizer(sparse=False)\n",
    "dv.fit(train_dict)\n",
    "\n",
    "x_train = dv.transform(train_dict)\n",
    "\n",
    "val_dict = df_val[cat + numerical].to_dict(orient='records')\n",
    "x_val = dv.transform(val_dict)"
   ]
  },
  {
   "cell_type": "code",
   "execution_count": 71,
   "id": "95ca1551",
   "metadata": {},
   "outputs": [],
   "source": [
    "from sklearn.linear_model import Ridge\n",
    "from sklearn.metrics import mean_squared_error"
   ]
  },
  {
   "cell_type": "code",
   "execution_count": 72,
   "id": "54cbef3f",
   "metadata": {},
   "outputs": [
    {
     "name": "stdout",
     "output_type": "stream",
     "text": [
      "0 0.321\n",
      "0.01 0.321\n",
      "0.1 0.321\n",
      "1 0.321\n",
      "10 0.321\n"
     ]
    }
   ],
   "source": [
    "for a in [0, 0.01, 0.1, 1, 10]:\n",
    "    model = Ridge(alpha=a,random_state=42)\n",
    "    model.fit(x_train, y_train)\n",
    "    \n",
    "    y_pred = model.predict(x_val)\n",
    "    \n",
    "    score = np.sqrt(mean_squared_error(y_val, y_pred))\n",
    "    \n",
    "    print(a, round(score, 3))"
   ]
  },
  {
   "cell_type": "code",
   "execution_count": null,
   "id": "0d0c5474",
   "metadata": {},
   "outputs": [],
   "source": []
  }
 ],
 "metadata": {
  "kernelspec": {
   "display_name": "Python 3 (ipykernel)",
   "language": "python",
   "name": "python3"
  },
  "language_info": {
   "codemirror_mode": {
    "name": "ipython",
    "version": 3
   },
   "file_extension": ".py",
   "mimetype": "text/x-python",
   "name": "python",
   "nbconvert_exporter": "python",
   "pygments_lexer": "ipython3",
   "version": "3.9.12"
  }
 },
 "nbformat": 4,
 "nbformat_minor": 5
}
